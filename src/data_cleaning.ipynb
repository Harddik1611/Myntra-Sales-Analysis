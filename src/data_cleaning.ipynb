import pandas as pd
import numpy as np

def clean_missing_values(df):
    """ Handle missing values using different strategies. """
    
    # Drop rows where 'CustomerID' is missing (important for segmentation)
    df = df.dropna(subset=['CustomerID'])
    
    # Fill missing values in 'Description' with 'Mode Value'
    most_freq_val=df['Description'].mode()[0]
    df['Description'] = df['Description'].fillna(most_freq_val)
    
    return df

def convert_data_types(df):
    """ Convert data types to appropriate formats. """
    df['InvoiceDate'] = pd.to_datetime(df['InvoiceDate'], errors='coerce')  # Convert to datetime
    df['CustomerID'] = df['CustomerID'].astype(str)  # Convert CustomerID to string
    
    return df

def remove_outliers(df, columns, method="IQR"):
    """ Remove outliers using the IQR (Interquartile Range) method. """
    if method == "IQR":
        for col in columns:
            Q1 = df[col].quantile(0.25)
            Q3 = df[col].quantile(0.75)
            IQR = Q3 - Q1
            lower_bound = Q1 - 1.5 * IQR
            upper_bound = Q3 + 1.5 * IQR
            df = df[(df[col] >= lower_bound) & (df[col] <= upper_bound)]
    return df

if __name__ == "__main__":
    df = pd.read_excel("data\Online Retail.xlsx")
    
    print("🔹 Cleaning missing values...")
    df = clean_missing_values(df)

    print("🔹 Converting data types...")
    df = convert_data_types(df)

    print("🔹 Removing outliers...")
    df = remove_outliers(df, ["UnitPrice", "Quantity"])

    df.to_csv("Cleaned_file", index=False)
    print("✅ Data Cleaning Completed!")
